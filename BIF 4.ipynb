{
 "cells": [
  {
   "cell_type": "code",
   "execution_count": 2,
   "id": "3a06a86c",
   "metadata": {},
   "outputs": [
    {
     "name": "stdout",
     "output_type": "stream",
     "text": [
      "Accuracy: 0.42\n",
      "Classification Report:\n",
      "              precision    recall  f1-score   support\n",
      "\n",
      "       Alpha       0.65      0.22      0.33       229\n",
      "        Beta       0.17      0.86      0.29       240\n",
      "       Delta       0.58      0.34      0.43       216\n",
      "     Epsilon       0.53      0.13      0.21       249\n",
      "       Gamma       0.41      0.13      0.19       254\n",
      "      Lambda       0.34      0.07      0.12       227\n",
      "          Mu       0.35      0.09      0.15       232\n",
      "     Omicron       0.76      0.56      0.64       232\n",
      "       Other       0.69      0.83      0.75       230\n",
      "       Total       1.00      1.00      1.00       228\n",
      "\n",
      "    accuracy                           0.42      2337\n",
      "   macro avg       0.55      0.42      0.41      2337\n",
      "weighted avg       0.54      0.42      0.41      2337\n",
      "\n"
     ]
    }
   ],
   "source": [
    "from sklearn.model_selection import train_test_split\n",
    "from sklearn.ensemble import RandomForestClassifier\n",
    "from sklearn.metrics import classification_report, accuracy_score\n",
    "from sklearn.preprocessing import LabelEncoder\n",
    "import numpy as np\n",
    "import pandas as pd\n",
    "\n",
    "df = pd.read_csv('Genomics.csv')\n",
    "# Fill NaN values with 0 or any suitable value before processing\n",
    "df.fillna(0, inplace=True)\n",
    "\n",
    "# Encoding the categorical variable 'variant_name' as labels\n",
    "label_encoder = LabelEncoder()\n",
    "df['variant_label'] = label_encoder.fit_transform(df['variant_name'])\n",
    "\n",
    "# Features (X) and target (y)\n",
    "X = df[['specimens', 'percentage', 'specimens_7d_avg', 'percentage_7d_avg']].values\n",
    "y = df['variant_label'].values\n",
    "\n",
    "# Splitting the data into training and testing sets\n",
    "X_train, X_test, y_train, y_test = train_test_split(X, y, test_size=0.3, random_state=42)\n",
    "\n",
    "# Initializing and training the Random Forest Classifier\n",
    "rf_classifier = RandomForestClassifier(n_estimators=100, random_state=42)\n",
    "rf_classifier.fit(X_train, y_train)\n",
    "\n",
    "# Making predictions\n",
    "y_pred = rf_classifier.predict(X_test)\n",
    "\n",
    "# Adjusting target names based on the unique classes in the test set\n",
    "unique_labels = np.unique(y_test)\n",
    "target_names = [label_encoder.inverse_transform([i])[0] for i in unique_labels]\n",
    "\n",
    "# Evaluating the model\n",
    "accuracy = accuracy_score(y_test, y_pred)\n",
    "classification_rep = classification_report(y_test, y_pred, target_names=target_names)\n",
    "\n",
    "# Displaying the accuracy and classification report\n",
    "print(f\"Accuracy: {accuracy:.2f}\")\n",
    "print(\"Classification Report:\")\n",
    "print(classification_rep)"
   ]
  },
  {
   "cell_type": "code",
   "execution_count": 3,
   "id": "fa8b7e21",
   "metadata": {},
   "outputs": [
    {
     "name": "stdout",
     "output_type": "stream",
     "text": [
      "Accuracy (SVM): 0.21\n",
      "Classification Report (SVM):\n",
      "              precision    recall  f1-score   support\n",
      "\n",
      "       Alpha       0.31      0.07      0.12       229\n",
      "        Beta       0.00      0.00      0.00       240\n",
      "       Delta       0.00      0.00      0.00       216\n",
      "     Epsilon       0.67      0.03      0.06       249\n",
      "       Gamma       0.00      0.00      0.00       254\n",
      "      Lambda       0.13      1.00      0.22       227\n",
      "          Mu       0.00      0.00      0.00       232\n",
      "     Omicron       0.00      0.00      0.00       232\n",
      "       Other       0.30      0.09      0.13       230\n",
      "       Total       0.55      0.98      0.71       228\n",
      "\n",
      "    accuracy                           0.21      2337\n",
      "   macro avg       0.20      0.22      0.12      2337\n",
      "weighted avg       0.20      0.21      0.12      2337\n",
      "\n"
     ]
    },
    {
     "name": "stderr",
     "output_type": "stream",
     "text": [
      "C:\\Users\\anike\\anaconda3\\Lib\\site-packages\\sklearn\\metrics\\_classification.py:1344: UndefinedMetricWarning: Precision and F-score are ill-defined and being set to 0.0 in labels with no predicted samples. Use `zero_division` parameter to control this behavior.\n",
      "  _warn_prf(average, modifier, msg_start, len(result))\n",
      "C:\\Users\\anike\\anaconda3\\Lib\\site-packages\\sklearn\\metrics\\_classification.py:1344: UndefinedMetricWarning: Precision and F-score are ill-defined and being set to 0.0 in labels with no predicted samples. Use `zero_division` parameter to control this behavior.\n",
      "  _warn_prf(average, modifier, msg_start, len(result))\n",
      "C:\\Users\\anike\\anaconda3\\Lib\\site-packages\\sklearn\\metrics\\_classification.py:1344: UndefinedMetricWarning: Precision and F-score are ill-defined and being set to 0.0 in labels with no predicted samples. Use `zero_division` parameter to control this behavior.\n",
      "  _warn_prf(average, modifier, msg_start, len(result))\n"
     ]
    }
   ],
   "source": [
    "from sklearn.svm import SVC\n",
    "from sklearn.metrics import classification_report, accuracy_score\n",
    "\n",
    "# Initializing and training the Support Vector Classifier (SVM)\n",
    "svm_classifier = SVC(kernel='rbf', random_state=42)\n",
    "svm_classifier.fit(X_train, y_train)\n",
    "\n",
    "# Making predictions using the SVM model\n",
    "y_pred_svm = svm_classifier.predict(X_test)\n",
    "\n",
    "# Evaluating the SVM model\n",
    "accuracy_svm = accuracy_score(y_test, y_pred_svm)\n",
    "classification_rep_svm = classification_report(y_test, y_pred_svm, target_names=target_names)\n",
    "\n",
    "# Displaying the accuracy and classification report for the SVM model\n",
    "print(f\"Accuracy (SVM): {accuracy_svm:.2f}\")\n",
    "print(\"Classification Report (SVM):\")\n",
    "print(classification_rep_svm)"
   ]
  },
  {
   "cell_type": "code",
   "execution_count": 4,
   "id": "c0571c13",
   "metadata": {},
   "outputs": [
    {
     "data": {
      "image/png": "[encoded data removed]",
      "text/plain": [
       "<Figure size 640x480 with 1 Axes>"
      ]
     },
     "metadata": {},
     "output_type": "display_data"
    }
   ],
   "source": [
    "import seaborn as sns\n",
    "import matplotlib.pyplot as plt\n",
    "\n",
    "# Data for accuracies\n",
    "models = ['Random Forest', 'SVM']\n",
    "accuracies = [accuracy, accuracy_svm]\n",
    "\n",
    "# Creating a bar plot\n",
    "sns.barplot(x=models, y=accuracies)\n",
    "\n",
    "# Adding labels and title\n",
    "plt.title('Comparison of Model Accuracies')\n",
    "plt.xlabel('Model')\n",
    "plt.ylabel('Accuracy')\n",
    "\n",
    "# Displaying the plot\n",
    "plt.show()"
   ]
  },
  {
   "cell_type": "code",
   "execution_count": null,
   "id": "977e0efb",
   "metadata": {},
   "outputs": [],
   "source": []
  }
 ],
 "metadata": {
  "kernelspec": {
   "display_name": "Python 3 (ipykernel)",
   "language": "python",
   "name": "python3"
  },
  "language_info": {
   "codemirror_mode": {
    "name": "ipython",
    "version": 3
   },
   "file_extension": ".py",
   "mimetype": "text/x-python",
   "name": "python",
   "nbconvert_exporter": "python",
   "pygments_lexer": "ipython3",
   "version": "3.11.3"
  }
 },
 "nbformat": 4,
 "nbformat_minor": 5
}
